{
 "cells": [
  {
   "cell_type": "markdown",
   "id": "cddb4b44-e578-43c4-9e3a-aefa1a38eb64",
   "metadata": {},
   "source": [
    "# Web Scraper + Regular Expression + Pandas"
   ]
  },
  {
   "cell_type": "code",
   "execution_count": 16,
   "id": "c1e24eb2-2497-4813-8aa8-8cedbef74650",
   "metadata": {},
   "outputs": [],
   "source": [
    "from bs4 import BeautifulSoup\n",
    "import requests"
   ]
  },
  {
   "cell_type": "code",
   "execution_count": 20,
   "id": "151a00ba-0698-43dd-9a31-1270efb156d2",
   "metadata": {},
   "outputs": [],
   "source": [
    "url = 'http://www.analytictech.com/mb021/mlk.htm'\n",
    "\n",
    "page = requests.get(url)\n",
    "\n",
    "soup = BeautifulSoup(page.text, 'html')"
   ]
  },
  {
   "cell_type": "code",
   "execution_count": null,
   "id": "ef6eaa15-1389-40de-81ea-688f5db55e77",
   "metadata": {},
   "outputs": [],
   "source": [
    "print(soup)"
   ]
  },
  {
   "cell_type": "code",
   "execution_count": 29,
   "id": "b36cd40d-8a33-4ab8-ad59-dc52a0496175",
   "metadata": {},
   "outputs": [],
   "source": [
    "mlkj_speech = soup.find_all('p')"
   ]
  },
  {
   "cell_type": "code",
   "execution_count": 49,
   "id": "7e43ad82-c659-47a0-928f-e35dde6ad938",
   "metadata": {},
   "outputs": [
    {
     "name": "stdout",
     "output_type": "stream",
     "text": [
      "[<p>I am happy to join with you today in what will go down in\n",
      "history as the greatest demonstration for freedom in the history\n",
      "of our nation. </p>, <p>Five score years ago a great American in whose symbolic shadow\n",
      "we stand today signed the Emancipation Proclamation. This\n",
      "momentous decree came as a great beckoning light of hope to\n",
      "millions of Negro slaves who had been seared in the flames of\n",
      "withering injustice. It came as a joyous daybreak to end the long\n",
      "night of their captivity. </p>, <p>But one hundred years later the Negro is still not free. One\n",
      "hundred years later the life of the Negro is still sadly crippled\n",
      "by the manacles of segregation and the chains of discrimination. </p>, <p>One hundred years later the Negro lives on a lonely island of\n",
      "poverty in the midst of a vast ocean of material prosperity. </p>, <p>One hundred years later the Negro is still languishing in the\n",
      "comers of American society and finds himself in exile in his own\n",
      "land. </p>, <p>We all have come to this hallowed spot to remind America of\n",
      "the fierce urgency of now. Now is the time to rise from the dark\n",
      "and desolate valley of segregation to the sunlit path of racial\n",
      "justice. Now is the time to change racial injustice to the solid\n",
      "rock of brotherhood. Now is the time to make justice ring out for\n",
      "all of God's children. </p>, <p>There will be neither rest nor tranquility in America until\n",
      "the Negro is granted citizenship rights. </p>, <p>We must forever conduct our struggle on the high plane of\n",
      "dignity and discipline. We must not allow our creative protest to\n",
      "degenerate into physical violence. Again and again we must rise\n",
      "to the majestic heights of meeting physical force with soul\n",
      "force. </p>, <p>And the marvelous new militarism which has engulfed the Negro\n",
      "community must not lead us to a distrust of all white people, for\n",
      "many of our white brothers have evidenced by their presence here\n",
      "today that they have come to realize that their destiny is part\n",
      "of our destiny. </p>, <p>So even though we face the difficulties of today and tomorrow\n",
      "I still have a dream. It is a dream deeply rooted in the American\n",
      "dream. </p>, <p>I have a dream that one day this nation will rise up and live\n",
      "out the true meaning of its creed: 'We hold these truths to be\n",
      "self-evident; that all men are created equal.\" </p>, <p>I have a dream that one day on the red hills of Georgia the\n",
      "sons of former slaves and the sons of former slave owners will be\n",
      "able to sit together at the table of brotherhood. </p>, <p>I have a dream that one day even the state of Mississippi, a\n",
      "state sweltering with the heat of injustice, sweltering with the\n",
      "heat of oppression, will be transformed into an oasis of freedom\n",
      "and justice. </p>, <p>I have a dream that little children will one day live in a\n",
      "nation where they will not be judged by the color of their skin\n",
      "but by the content of their character. </p>, <p>I have a dream today. </p>, <p>I have a dream that one day down in Alabama, with its vicious\n",
      "racists, with its Governor having his lips dripping with the\n",
      "words of interposition and nullification, one day right there in\n",
      "Alabama little black boys and black girls will be able to join\n",
      "hands with little white boys and white girls as sisters and\n",
      "brothers. </p>, <p>I have a dream today. </p>, <p>I have a dream that one day every valley shall be exalted,\n",
      "every hill and mountain shall be made low, the rough places\n",
      "plains, and the crooked places will be made straight, and before\n",
      "the Lord will be revealed, and all flesh shall see it together. </p>, <p>This is our hope. This is the faith that I go back to the\n",
      "mount with. With this faith we will be able to hew out of the\n",
      "mountain of despair a stone of hope. With this faith we will be\n",
      "able to transform the genuine discords of our nation into a\n",
      "beautiful symphony of brotherhood. With this faith we will be\n",
      "able to work together, pray together; to struggle together, to go\n",
      "to jail together, to stand up for freedom forever, )mowing that\n",
      "we will be free one day. </p>, <p>And I say to you today my friends, let freedom ring. From the\n",
      "prodigious hilltops of New Hampshire, let freedom ring. From the\n",
      "mighty mountains of New York, let freedom ring. From the mighty\n",
      "Alleghenies of Pennsylvania! </p>, <p>Let freedom ring from the snow capped Rockies of Colorado! </p>, <p>Let freedom ring from the curvaceous slopes of California! </p>, <p>But not only there; let freedom ring from the Stone Mountain\n",
      "of Georgia! </p>, <p>Let freedom ring from Lookout Mountain in Tennessee! </p>, <p>Let freedom ring from every hill and molehill in Mississippi.\n",
      "From every mountainside, let freedom ring. </p>, <p>And when this happens, when we allow freedom to ring, when we\n",
      "let it ring from every village and hamlet, from every state and\n",
      "every city, we will be able to speed up that day when all of\n",
      "God's children, black men and white men, Jews and Gentiles,\n",
      "Protestants and Catholics, will be able to join hands and sing in\n",
      "the words of the old Negro spiritual, \"Free at last! Free at\n",
      "last! Thank God almighty, we're free at last!\" </p>]\n"
     ]
    }
   ],
   "source": [
    "print(mlkj_speech)"
   ]
  },
  {
   "cell_type": "code",
   "execution_count": 33,
   "id": "2ac008af-f3d6-4566-8c8a-3973cfa1f2e8",
   "metadata": {},
   "outputs": [
    {
     "data": {
      "text/plain": [
       "bs4.element.ResultSet"
      ]
     },
     "execution_count": 33,
     "metadata": {},
     "output_type": "execute_result"
    }
   ],
   "source": [
    "type(mlkj_speech)"
   ]
  },
  {
   "cell_type": "code",
   "execution_count": 37,
   "id": "1ae47472-2553-443f-b0bb-df4f433c3de5",
   "metadata": {},
   "outputs": [
    {
     "name": "stdout",
     "output_type": "stream",
     "text": [
      "['I am happy to join with you today in what will go down in\\r\\nhistory as the greatest demonstration for freedom in the history\\r\\nof our nation. ', 'Five score years ago a great American in whose symbolic shadow\\r\\nwe stand today signed the Emancipation Proclamation. This\\r\\nmomentous decree came as a great beckoning light of hope to\\r\\nmillions of Negro slaves who had been seared in the flames of\\r\\nwithering injustice. It came as a joyous daybreak to end the long\\r\\nnight of their captivity. ', 'But one hundred years later the Negro is still not free. One\\r\\nhundred years later the life of the Negro is still sadly crippled\\r\\nby the manacles of segregation and the chains of discrimination. ', 'One hundred years later the Negro lives on a lonely island of\\r\\npoverty in the midst of a vast ocean of material prosperity. ', 'One hundred years later the Negro is still languishing in the\\r\\ncomers of American society and finds himself in exile in his own\\r\\nland. ', \"We all have come to this hallowed spot to remind America of\\r\\nthe fierce urgency of now. Now is the time to rise from the dark\\r\\nand desolate valley of segregation to the sunlit path of racial\\r\\njustice. Now is the time to change racial injustice to the solid\\r\\nrock of brotherhood. Now is the time to make justice ring out for\\r\\nall of God's children. \", 'There will be neither rest nor tranquility in America until\\r\\nthe Negro is granted citizenship rights. ', 'We must forever conduct our struggle on the high plane of\\r\\ndignity and discipline. We must not allow our creative protest to\\r\\ndegenerate into physical violence. Again and again we must rise\\r\\nto the majestic heights of meeting physical force with soul\\r\\nforce. ', 'And the marvelous new militarism which has engulfed the Negro\\r\\ncommunity must not lead us to a distrust of all white people, for\\r\\nmany of our white brothers have evidenced by their presence here\\r\\ntoday that they have come to realize that their destiny is part\\r\\nof our destiny. ', 'So even though we face the difficulties of today and tomorrow\\r\\nI still have a dream. It is a dream deeply rooted in the American\\r\\ndream. ', 'I have a dream that one day this nation will rise up and live\\r\\nout the true meaning of its creed: \\'We hold these truths to be\\r\\nself-evident; that all men are created equal.\" ', 'I have a dream that one day on the red hills of Georgia the\\r\\nsons of former slaves and the sons of former slave owners will be\\r\\nable to sit together at the table of brotherhood. ', 'I have a dream that one day even the state of Mississippi, a\\r\\nstate sweltering with the heat of injustice, sweltering with the\\r\\nheat of oppression, will be transformed into an oasis of freedom\\r\\nand justice. ', 'I have a dream that little children will one day live in a\\r\\nnation where they will not be judged by the color of their skin\\r\\nbut by the content of their character. ', 'I have a dream today. ', 'I have a dream that one day down in Alabama, with its vicious\\r\\nracists, with its Governor having his lips dripping with the\\r\\nwords of interposition and nullification, one day right there in\\r\\nAlabama little black boys and black girls will be able to join\\r\\nhands with little white boys and white girls as sisters and\\r\\nbrothers. ', 'I have a dream today. ', 'I have a dream that one day every valley shall be exalted,\\r\\nevery hill and mountain shall be made low, the rough places\\r\\nplains, and the crooked places will be made straight, and before\\r\\nthe Lord will be revealed, and all flesh shall see it together. ', 'This is our hope. This is the faith that I go back to the\\r\\nmount with. With this faith we will be able to hew out of the\\r\\nmountain of despair a stone of hope. With this faith we will be\\r\\nable to transform the genuine discords of our nation into a\\r\\nbeautiful symphony of brotherhood. With this faith we will be\\r\\nable to work together, pray together; to struggle together, to go\\r\\nto jail together, to stand up for freedom forever, )mowing that\\r\\nwe will be free one day. ', 'And I say to you today my friends, let freedom ring. From the\\r\\nprodigious hilltops of New Hampshire, let freedom ring. From the\\r\\nmighty mountains of New York, let freedom ring. From the mighty\\r\\nAlleghenies of Pennsylvania! ', 'Let freedom ring from the snow capped Rockies of Colorado! ', 'Let freedom ring from the curvaceous slopes of California! ', 'But not only there; let freedom ring from the Stone Mountain\\r\\nof Georgia! ', 'Let freedom ring from Lookout Mountain in Tennessee! ', 'Let freedom ring from every hill and molehill in Mississippi.\\r\\nFrom every mountainside, let freedom ring. ', 'And when this happens, when we allow freedom to ring, when we\\r\\nlet it ring from every village and hamlet, from every state and\\r\\nevery city, we will be able to speed up that day when all of\\r\\nGod\\'s children, black men and white men, Jews and Gentiles,\\r\\nProtestants and Catholics, will be able to join hands and sing in\\r\\nthe words of the old Negro spiritual, \"Free at last! Free at\\r\\nlast! Thank God almighty, we\\'re free at last!\" ']\n"
     ]
    }
   ],
   "source": [
    "speech_combined = [p.text for p in mlkj_speech]\n",
    "\n",
    "print(speech_combined)"
   ]
  },
  {
   "cell_type": "code",
   "execution_count": 42,
   "id": "7ef6a3d4-35fa-4267-99d4-54ee80957dff",
   "metadata": {},
   "outputs": [
    {
     "data": {
      "text/plain": [
       "list"
      ]
     },
     "execution_count": 42,
     "metadata": {},
     "output_type": "execute_result"
    }
   ],
   "source": [
    "type(speech_combined)"
   ]
  },
  {
   "cell_type": "code",
   "execution_count": 47,
   "id": "5ff4a1f0-7ded-4ab7-97de-5ee3abdc734c",
   "metadata": {},
   "outputs": [
    {
     "data": {
      "text/plain": [
       "'I am happy to join with you today in what will go down in\\r\\nhistory as the greatest demonstration for freedom in the history\\r\\nof our nation.  Five score years ago a great American in whose symbolic shadow\\r\\nwe stand today signed the Emancipation Proclamation. This\\r\\nmomentous decree came as a great beckoning light of hope to\\r\\nmillions of Negro slaves who had been seared in the flames of\\r\\nwithering injustice. It came as a joyous daybreak to end the long\\r\\nnight of their captivity.  But one hundred years later the Negro is still not free. One\\r\\nhundred years later the life of the Negro is still sadly crippled\\r\\nby the manacles of segregation and the chains of discrimination.  One hundred years later the Negro lives on a lonely island of\\r\\npoverty in the midst of a vast ocean of material prosperity.  One hundred years later the Negro is still languishing in the\\r\\ncomers of American society and finds himself in exile in his own\\r\\nland.  We all have come to this hallowed spot to remind America of\\r\\nthe fierce urgency of now. Now is the time to rise from the dark\\r\\nand desolate valley of segregation to the sunlit path of racial\\r\\njustice. Now is the time to change racial injustice to the solid\\r\\nrock of brotherhood. Now is the time to make justice ring out for\\r\\nall of God\\'s children.  There will be neither rest nor tranquility in America until\\r\\nthe Negro is granted citizenship rights.  We must forever conduct our struggle on the high plane of\\r\\ndignity and discipline. We must not allow our creative protest to\\r\\ndegenerate into physical violence. Again and again we must rise\\r\\nto the majestic heights of meeting physical force with soul\\r\\nforce.  And the marvelous new militarism which has engulfed the Negro\\r\\ncommunity must not lead us to a distrust of all white people, for\\r\\nmany of our white brothers have evidenced by their presence here\\r\\ntoday that they have come to realize that their destiny is part\\r\\nof our destiny.  So even though we face the difficulties of today and tomorrow\\r\\nI still have a dream. It is a dream deeply rooted in the American\\r\\ndream.  I have a dream that one day this nation will rise up and live\\r\\nout the true meaning of its creed: \\'We hold these truths to be\\r\\nself-evident; that all men are created equal.\"  I have a dream that one day on the red hills of Georgia the\\r\\nsons of former slaves and the sons of former slave owners will be\\r\\nable to sit together at the table of brotherhood.  I have a dream that one day even the state of Mississippi, a\\r\\nstate sweltering with the heat of injustice, sweltering with the\\r\\nheat of oppression, will be transformed into an oasis of freedom\\r\\nand justice.  I have a dream that little children will one day live in a\\r\\nnation where they will not be judged by the color of their skin\\r\\nbut by the content of their character.  I have a dream today.  I have a dream that one day down in Alabama, with its vicious\\r\\nracists, with its Governor having his lips dripping with the\\r\\nwords of interposition and nullification, one day right there in\\r\\nAlabama little black boys and black girls will be able to join\\r\\nhands with little white boys and white girls as sisters and\\r\\nbrothers.  I have a dream today.  I have a dream that one day every valley shall be exalted,\\r\\nevery hill and mountain shall be made low, the rough places\\r\\nplains, and the crooked places will be made straight, and before\\r\\nthe Lord will be revealed, and all flesh shall see it together.  This is our hope. This is the faith that I go back to the\\r\\nmount with. With this faith we will be able to hew out of the\\r\\nmountain of despair a stone of hope. With this faith we will be\\r\\nable to transform the genuine discords of our nation into a\\r\\nbeautiful symphony of brotherhood. With this faith we will be\\r\\nable to work together, pray together; to struggle together, to go\\r\\nto jail together, to stand up for freedom forever, )mowing that\\r\\nwe will be free one day.  And I say to you today my friends, let freedom ring. From the\\r\\nprodigious hilltops of New Hampshire, let freedom ring. From the\\r\\nmighty mountains of New York, let freedom ring. From the mighty\\r\\nAlleghenies of Pennsylvania!  Let freedom ring from the snow capped Rockies of Colorado!  Let freedom ring from the curvaceous slopes of California!  But not only there; let freedom ring from the Stone Mountain\\r\\nof Georgia!  Let freedom ring from Lookout Mountain in Tennessee!  Let freedom ring from every hill and molehill in Mississippi.\\r\\nFrom every mountainside, let freedom ring.  And when this happens, when we allow freedom to ring, when we\\r\\nlet it ring from every village and hamlet, from every state and\\r\\nevery city, we will be able to speed up that day when all of\\r\\nGod\\'s children, black men and white men, Jews and Gentiles,\\r\\nProtestants and Catholics, will be able to join hands and sing in\\r\\nthe words of the old Negro spiritual, \"Free at last! Free at\\r\\nlast! Thank God almighty, we\\'re free at last!\" '"
      ]
     },
     "execution_count": 47,
     "metadata": {},
     "output_type": "execute_result"
    }
   ],
   "source": [
    "' '.join(speech_combined)"
   ]
  },
  {
   "cell_type": "code",
   "execution_count": 51,
   "id": "2cca19c0-bd5e-40ea-b7e3-b56c08f572b7",
   "metadata": {},
   "outputs": [],
   "source": [
    "string_speech = ' '.join(speech_combined)"
   ]
  },
  {
   "cell_type": "code",
   "execution_count": 59,
   "id": "ebd683bc-d678-4658-99c3-7212a7dc72f8",
   "metadata": {},
   "outputs": [],
   "source": [
    "string_speech_cleaned = string_speech.replace('\\r\\n',' ')"
   ]
  },
  {
   "cell_type": "code",
   "execution_count": 61,
   "id": "4611db30-ae02-4e0c-8a14-588245c9f639",
   "metadata": {},
   "outputs": [
    {
     "data": {
      "text/plain": [
       "'I am happy to join with you today in what will go down in history as the greatest demonstration for freedom in the history of our nation.  Five score years ago a great American in whose symbolic shadow we stand today signed the Emancipation Proclamation. This momentous decree came as a great beckoning light of hope to millions of Negro slaves who had been seared in the flames of withering injustice. It came as a joyous daybreak to end the long night of their captivity.  But one hundred years later the Negro is still not free. One hundred years later the life of the Negro is still sadly crippled by the manacles of segregation and the chains of discrimination.  One hundred years later the Negro lives on a lonely island of poverty in the midst of a vast ocean of material prosperity.  One hundred years later the Negro is still languishing in the comers of American society and finds himself in exile in his own land.  We all have come to this hallowed spot to remind America of the fierce urgency of now. Now is the time to rise from the dark and desolate valley of segregation to the sunlit path of racial justice. Now is the time to change racial injustice to the solid rock of brotherhood. Now is the time to make justice ring out for all of God\\'s children.  There will be neither rest nor tranquility in America until the Negro is granted citizenship rights.  We must forever conduct our struggle on the high plane of dignity and discipline. We must not allow our creative protest to degenerate into physical violence. Again and again we must rise to the majestic heights of meeting physical force with soul force.  And the marvelous new militarism which has engulfed the Negro community must not lead us to a distrust of all white people, for many of our white brothers have evidenced by their presence here today that they have come to realize that their destiny is part of our destiny.  So even though we face the difficulties of today and tomorrow I still have a dream. It is a dream deeply rooted in the American dream.  I have a dream that one day this nation will rise up and live out the true meaning of its creed: \\'We hold these truths to be self-evident; that all men are created equal.\"  I have a dream that one day on the red hills of Georgia the sons of former slaves and the sons of former slave owners will be able to sit together at the table of brotherhood.  I have a dream that one day even the state of Mississippi, a state sweltering with the heat of injustice, sweltering with the heat of oppression, will be transformed into an oasis of freedom and justice.  I have a dream that little children will one day live in a nation where they will not be judged by the color of their skin but by the content of their character.  I have a dream today.  I have a dream that one day down in Alabama, with its vicious racists, with its Governor having his lips dripping with the words of interposition and nullification, one day right there in Alabama little black boys and black girls will be able to join hands with little white boys and white girls as sisters and brothers.  I have a dream today.  I have a dream that one day every valley shall be exalted, every hill and mountain shall be made low, the rough places plains, and the crooked places will be made straight, and before the Lord will be revealed, and all flesh shall see it together.  This is our hope. This is the faith that I go back to the mount with. With this faith we will be able to hew out of the mountain of despair a stone of hope. With this faith we will be able to transform the genuine discords of our nation into a beautiful symphony of brotherhood. With this faith we will be able to work together, pray together; to struggle together, to go to jail together, to stand up for freedom forever, )mowing that we will be free one day.  And I say to you today my friends, let freedom ring. From the prodigious hilltops of New Hampshire, let freedom ring. From the mighty mountains of New York, let freedom ring. From the mighty Alleghenies of Pennsylvania!  Let freedom ring from the snow capped Rockies of Colorado!  Let freedom ring from the curvaceous slopes of California!  But not only there; let freedom ring from the Stone Mountain of Georgia!  Let freedom ring from Lookout Mountain in Tennessee!  Let freedom ring from every hill and molehill in Mississippi. From every mountainside, let freedom ring.  And when this happens, when we allow freedom to ring, when we let it ring from every village and hamlet, from every state and every city, we will be able to speed up that day when all of God\\'s children, black men and white men, Jews and Gentiles, Protestants and Catholics, will be able to join hands and sing in the words of the old Negro spiritual, \"Free at last! Free at last! Thank God almighty, we\\'re free at last!\" '"
      ]
     },
     "execution_count": 61,
     "metadata": {},
     "output_type": "execute_result"
    }
   ],
   "source": [
    "string_speech_cleaned"
   ]
  },
  {
   "cell_type": "code",
   "execution_count": 63,
   "id": "7c8b62a3-6514-4afe-99ec-551d36decb8e",
   "metadata": {},
   "outputs": [],
   "source": [
    "import re"
   ]
  },
  {
   "cell_type": "code",
   "execution_count": 71,
   "id": "bf89a249-8018-4b0a-93fe-4fcc7d1efb83",
   "metadata": {},
   "outputs": [
    {
     "name": "stdout",
     "output_type": "stream",
     "text": [
      "I am happy to join with you today in what will go down in history as the greatest demonstration for freedom in the history of our nation  Five score years ago a great American in whose symbolic shadow we stand today signed the Emancipation Proclamation This momentous decree came as a great beckoning light of hope to millions of Negro slaves who had been seared in the flames of withering injustice It came as a joyous daybreak to end the long night of their captivity  But one hundred years later the Negro is still not free One hundred years later the life of the Negro is still sadly crippled by the manacles of segregation and the chains of discrimination  One hundred years later the Negro lives on a lonely island of poverty in the midst of a vast ocean of material prosperity  One hundred years later the Negro is still languishing in the comers of American society and finds himself in exile in his own land  We all have come to this hallowed spot to remind America of the fierce urgency of now Now is the time to rise from the dark and desolate valley of segregation to the sunlit path of racial justice Now is the time to change racial injustice to the solid rock of brotherhood Now is the time to make justice ring out for all of Gods children  There will be neither rest nor tranquility in America until the Negro is granted citizenship rights  We must forever conduct our struggle on the high plane of dignity and discipline We must not allow our creative protest to degenerate into physical violence Again and again we must rise to the majestic heights of meeting physical force with soul force  And the marvelous new militarism which has engulfed the Negro community must not lead us to a distrust of all white people for many of our white brothers have evidenced by their presence here today that they have come to realize that their destiny is part of our destiny  So even though we face the difficulties of today and tomorrow I still have a dream It is a dream deeply rooted in the American dream  I have a dream that one day this nation will rise up and live out the true meaning of its creed We hold these truths to be selfevident that all men are created equal  I have a dream that one day on the red hills of Georgia the sons of former slaves and the sons of former slave owners will be able to sit together at the table of brotherhood  I have a dream that one day even the state of Mississippi a state sweltering with the heat of injustice sweltering with the heat of oppression will be transformed into an oasis of freedom and justice  I have a dream that little children will one day live in a nation where they will not be judged by the color of their skin but by the content of their character  I have a dream today  I have a dream that one day down in Alabama with its vicious racists with its Governor having his lips dripping with the words of interposition and nullification one day right there in Alabama little black boys and black girls will be able to join hands with little white boys and white girls as sisters and brothers  I have a dream today  I have a dream that one day every valley shall be exalted every hill and mountain shall be made low the rough places plains and the crooked places will be made straight and before the Lord will be revealed and all flesh shall see it together  This is our hope This is the faith that I go back to the mount with With this faith we will be able to hew out of the mountain of despair a stone of hope With this faith we will be able to transform the genuine discords of our nation into a beautiful symphony of brotherhood With this faith we will be able to work together pray together to struggle together to go to jail together to stand up for freedom forever )mowing that we will be free one day  And I say to you today my friends let freedom ring From the prodigious hilltops of New Hampshire let freedom ring From the mighty mountains of New York let freedom ring From the mighty Alleghenies of Pennsylvania  Let freedom ring from the snow capped Rockies of Colorado  Let freedom ring from the curvaceous slopes of California  But not only there let freedom ring from the Stone Mountain of Georgia  Let freedom ring from Lookout Mountain in Tennessee  Let freedom ring from every hill and molehill in Mississippi From every mountainside let freedom ring  And when this happens when we allow freedom to ring when we let it ring from every village and hamlet from every state and every city we will be able to speed up that day when all of Gods children black men and white men Jews and Gentiles Protestants and Catholics will be able to join hands and sing in the words of the old Negro spiritual Free at last Free at last Thank God almighty were free at last \n"
     ]
    }
   ],
   "source": [
    "speech_no_punt = re.sub(r'[^\\w\\s)]', '',string_speech_cleaned)\n",
    "\n",
    "print(speech_no_punt)"
   ]
  },
  {
   "cell_type": "code",
   "execution_count": 73,
   "id": "775fd197-e0f3-4fdf-be19-0d59d6e435f6",
   "metadata": {},
   "outputs": [],
   "source": [
    "speech_lower =speech_no_punt.lower()"
   ]
  },
  {
   "cell_type": "code",
   "execution_count": null,
   "id": "88a9d6df-235c-46d7-b4bc-530cc5dcbbe1",
   "metadata": {},
   "outputs": [],
   "source": [
    "re.split(r'\\s+',speech_lower)"
   ]
  },
  {
   "cell_type": "code",
   "execution_count": 79,
   "id": "73198ac5-a77a-49c5-a29c-14b622618463",
   "metadata": {},
   "outputs": [],
   "source": [
    "speechre_broken_out = re.split(r'\\s+',speech_lower)"
   ]
  },
  {
   "cell_type": "code",
   "execution_count": 81,
   "id": "dcaec8d6-b3a2-43c2-8ec0-ec4fe89fc2d1",
   "metadata": {},
   "outputs": [],
   "source": [
    "import pandas as pd"
   ]
  },
  {
   "cell_type": "code",
   "execution_count": 87,
   "id": "90c8ad9d-0db9-44cc-bfd1-d905fd8f860d",
   "metadata": {},
   "outputs": [
    {
     "data": {
      "text/plain": [
       "0     \n",
       "the       54\n",
       "of        49\n",
       "to        29\n",
       "and       27\n",
       "a         20\n",
       "          ..\n",
       "jews       1\n",
       "joyous     1\n",
       "judged     1\n",
       "land       1\n",
       "long       1\n",
       "Name: count, Length: 323, dtype: int64"
      ]
     },
     "execution_count": 87,
     "metadata": {},
     "output_type": "execute_result"
    }
   ],
   "source": [
    "df = pd.DataFrame(speechre_broken_out).value_counts()\n",
    "df"
   ]
  },
  {
   "cell_type": "code",
   "execution_count": 95,
   "id": "28f1d08c-2a06-4ce8-849c-b6fad226cfb8",
   "metadata": {},
   "outputs": [],
   "source": [
    "df.to_csv(r'C:\\#entert_file_path\\MLKJ_Speech_Counts.csv', header = ['Counts'],index_label = 'Word')"
   ]
  },
  {
   "cell_type": "code",
   "execution_count": null,
   "id": "229a14fc-cc53-4181-8bcc-e08387240ad2",
   "metadata": {},
   "outputs": [],
   "source": []
  }
 ],
 "metadata": {
  "kernelspec": {
   "display_name": "Python 3 (ipykernel)",
   "language": "python",
   "name": "python3"
  },
  "language_info": {
   "codemirror_mode": {
    "name": "ipython",
    "version": 3
   },
   "file_extension": ".py",
   "mimetype": "text/x-python",
   "name": "python",
   "nbconvert_exporter": "python",
   "pygments_lexer": "ipython3",
   "version": "3.12.4"
  }
 },
 "nbformat": 4,
 "nbformat_minor": 5
}
